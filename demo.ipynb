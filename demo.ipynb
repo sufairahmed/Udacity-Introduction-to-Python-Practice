{
  "nbformat": 4,
  "nbformat_minor": 0,
  "metadata": {
    "colab": {
      "name": "demo.ipynb",
      "provenance": [],
      "authorship_tag": "ABX9TyPF4pqGdf7oAi4xDWumGrU1",
      "include_colab_link": true
    },
    "kernelspec": {
      "name": "python3",
      "display_name": "Python 3"
    }
  },
  "cells": [
    {
      "cell_type": "markdown",
      "metadata": {
        "id": "view-in-github",
        "colab_type": "text"
      },
      "source": [
        "<a href=\"https://colab.research.google.com/github/sufairahmed/Udacity-Introduction-to-Python-Practice/blob/master/demo.ipynb\" target=\"_parent\"><img src=\"https://colab.research.google.com/assets/colab-badge.svg\" alt=\"Open In Colab\"/></a>"
      ]
    },
    {
      "cell_type": "code",
      "metadata": {
        "id": "viJxDacluKGB",
        "colab_type": "code",
        "outputId": "d1e27fd6-fe35-47e6-8fce-55dfeacfd6f3",
        "colab": {
          "base_uri": "https://localhost:8080/",
          "height": 50
        }
      },
      "source": [
        "print(\"hello google colab\")\n",
        "print('this is for only justify mood')"
      ],
      "execution_count": 1,
      "outputs": [
        {
          "output_type": "stream",
          "text": [
            "hello google colab\n",
            "this is for only justify mood\n"
          ],
          "name": "stdout"
        }
      ]
    }
  ]
}